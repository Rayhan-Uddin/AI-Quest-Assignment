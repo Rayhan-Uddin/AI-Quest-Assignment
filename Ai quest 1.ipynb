{
 "cells": [
  {
   "cell_type": "code",
   "execution_count": 3,
   "id": "2efbd187",
   "metadata": {},
   "outputs": [
    {
     "name": "stdout",
     "output_type": "stream",
     "text": [
      "Hello World  Hello World|| ikf\n"
     ]
    }
   ],
   "source": [
    "print(\"Hello World \",\"Hello World\",end='|| ')\n",
    "print(\"ikf\")"
   ]
  },
  {
   "cell_type": "markdown",
   "id": "8b83958f",
   "metadata": {},
   "source": [
    "# variable practise"
   ]
  },
  {
   "cell_type": "code",
   "execution_count": 4,
   "id": "8b457dde",
   "metadata": {},
   "outputs": [
    {
     "name": "stdout",
     "output_type": "stream",
     "text": [
      "100\n"
     ]
    }
   ],
   "source": [
    "Var=100\n",
    "print(Var)"
   ]
  },
  {
   "cell_type": "code",
   "execution_count": 5,
   "id": "977eb9d0",
   "metadata": {},
   "outputs": [
    {
     "name": "stdout",
     "output_type": "stream",
     "text": [
      "Rayhan Uddin23\n"
     ]
    }
   ],
   "source": [
    "my_name=\"Rayhan Uddin\"\n",
    "my_age=23\n",
    "result=my_name+ str(my_age)\n",
    "print(result )"
   ]
  },
  {
   "cell_type": "markdown",
   "id": "3afcf630",
   "metadata": {},
   "source": [
    "# If else"
   ]
  },
  {
   "cell_type": "code",
   "execution_count": 1,
   "id": "087b3384",
   "metadata": {},
   "outputs": [
    {
     "name": "stdout",
     "output_type": "stream",
     "text": [
      "Its safe outside\n",
      "Cold\n"
     ]
    }
   ],
   "source": [
    "temperture=30\n",
    "if temperture>30:\n",
    "   print(\"Hot day \")\n",
    "   print(\"Take a umbrella to save you from sunlight\")\n",
    "elif temperture>20:\n",
    "    print('Its safe outside')\n",
    "    print(\"Cold\")\n",
    "else :\n",
    "    print(\"Nothing to do\")"
   ]
  },
  {
   "cell_type": "markdown",
   "id": "2bef319c",
   "metadata": {},
   "source": [
    "# Loops\n"
   ]
  },
  {
   "cell_type": "code",
   "execution_count": 2,
   "id": "1642fd82",
   "metadata": {},
   "outputs": [
    {
     "name": "stdout",
     "output_type": "stream",
     "text": [
      "0\n",
      "1\n",
      "2\n",
      "3\n",
      "4\n",
      "5\n",
      "\n",
      "*\n",
      "**\n",
      "***\n",
      "****\n",
      "*****\n",
      "******\n",
      "*******\n",
      "********\n",
      "*********\n",
      "**********\n"
     ]
    }
   ],
   "source": [
    "i=0\n",
    "while i<=5:\n",
    "    print(i)\n",
    "    i= i+1\n",
    "\n",
    "i=0\n",
    "while i<=10:\n",
    "    print(i*\"*\")\n",
    "    i= i+1"
   ]
  },
  {
   "cell_type": "code",
   "execution_count": null,
   "id": "a5fa7688",
   "metadata": {},
   "outputs": [],
   "source": []
  }
 ],
 "metadata": {
  "kernelspec": {
   "display_name": "Python 3 (ipykernel)",
   "language": "python",
   "name": "python3"
  },
  "language_info": {
   "codemirror_mode": {
    "name": "ipython",
    "version": 3
   },
   "file_extension": ".py",
   "mimetype": "text/x-python",
   "name": "python",
   "nbconvert_exporter": "python",
   "pygments_lexer": "ipython3",
   "version": "3.9.12"
  }
 },
 "nbformat": 4,
 "nbformat_minor": 5
}
